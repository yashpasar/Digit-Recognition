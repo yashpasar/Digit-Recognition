{
 "cells": [
  {
   "cell_type": "markdown",
   "metadata": {},
   "source": [
    "# Digit Classification using Naive Bayes, Random Forest and SVM \n",
    "###                                                                                                      - Yash Pasar"
   ]
  },
  {
   "cell_type": "markdown",
   "metadata": {},
   "source": [
    "#### This project deals with predicting handwritten digits by building classifiers using Naive Bayes, K-Nearest Neighbor and Support Vector Machine algorithms. The dataset has class label from 0-9 and feature set of pixel values for the handwritten digits. Our aim is to build a classifier using the pixel values to predict the label for the digit"
   ]
  },
  {
   "cell_type": "markdown",
   "metadata": {},
   "source": [
    "### Importing all the necessary packages"
   ]
  },
  {
   "cell_type": "code",
   "execution_count": 1,
   "metadata": {},
   "outputs": [],
   "source": [
    "import pandas as pd\n",
    "import seaborn as sns\n",
    "import numpy as np\n",
    "import matplotlib.pyplot as plt, matplotlib.image as mpimg\n",
    "import os\n",
    "from sklearn.model_selection import train_test_split, GridSearchCV, cross_val_score\n",
    "import warnings\n",
    "warnings.simplefilter(action='ignore', category=FutureWarning)\n",
    "import time\n",
    "from sklearn import svm\n",
    "from sklearn.ensemble import RandomForestClassifier\n",
    "from sklearn.preprocessing import StandardScaler\n",
    "from sklearn import metrics\n",
    "from sklearn.naive_bayes import GaussianNB, BernoulliNB, MultinomialNB"
   ]
  },
  {
   "cell_type": "markdown",
   "metadata": {},
   "source": [
    "### Reading Sample Train data and Test data"
   ]
  },
  {
   "cell_type": "code",
   "execution_count": 2,
   "metadata": {},
   "outputs": [],
   "source": [
    "train_data = pd.read_csv('/Users/yashpasar/Downloads/Kaggle-digit-train-sample-small-1400.csv')\n",
    "test_data = pd.read_csv('/Users/yashpasar/Downloads/Kaggle-digit-test-sample1000.csv')"
   ]
  },
  {
   "cell_type": "code",
   "execution_count": 3,
   "metadata": {},
   "outputs": [
    {
     "data": {
      "text/html": [
       "<div>\n",
       "<style scoped>\n",
       "    .dataframe tbody tr th:only-of-type {\n",
       "        vertical-align: middle;\n",
       "    }\n",
       "\n",
       "    .dataframe tbody tr th {\n",
       "        vertical-align: top;\n",
       "    }\n",
       "\n",
       "    .dataframe thead th {\n",
       "        text-align: right;\n",
       "    }\n",
       "</style>\n",
       "<table border=\"1\" class=\"dataframe\">\n",
       "  <thead>\n",
       "    <tr style=\"text-align: right;\">\n",
       "      <th></th>\n",
       "      <th>label</th>\n",
       "      <th>pixel0</th>\n",
       "      <th>pixel1</th>\n",
       "      <th>pixel2</th>\n",
       "      <th>pixel3</th>\n",
       "      <th>pixel4</th>\n",
       "      <th>pixel5</th>\n",
       "      <th>pixel6</th>\n",
       "      <th>pixel7</th>\n",
       "      <th>pixel8</th>\n",
       "      <th>...</th>\n",
       "      <th>pixel774</th>\n",
       "      <th>pixel775</th>\n",
       "      <th>pixel776</th>\n",
       "      <th>pixel777</th>\n",
       "      <th>pixel778</th>\n",
       "      <th>pixel779</th>\n",
       "      <th>pixel780</th>\n",
       "      <th>pixel781</th>\n",
       "      <th>pixel782</th>\n",
       "      <th>pixel783</th>\n",
       "    </tr>\n",
       "  </thead>\n",
       "  <tbody>\n",
       "    <tr>\n",
       "      <th>0</th>\n",
       "      <td>7</td>\n",
       "      <td>0</td>\n",
       "      <td>0</td>\n",
       "      <td>0</td>\n",
       "      <td>0</td>\n",
       "      <td>0</td>\n",
       "      <td>0</td>\n",
       "      <td>0</td>\n",
       "      <td>0</td>\n",
       "      <td>0</td>\n",
       "      <td>...</td>\n",
       "      <td>0</td>\n",
       "      <td>0</td>\n",
       "      <td>0</td>\n",
       "      <td>0</td>\n",
       "      <td>0</td>\n",
       "      <td>0</td>\n",
       "      <td>0</td>\n",
       "      <td>0</td>\n",
       "      <td>0</td>\n",
       "      <td>0</td>\n",
       "    </tr>\n",
       "    <tr>\n",
       "      <th>1</th>\n",
       "      <td>1</td>\n",
       "      <td>0</td>\n",
       "      <td>0</td>\n",
       "      <td>0</td>\n",
       "      <td>0</td>\n",
       "      <td>0</td>\n",
       "      <td>0</td>\n",
       "      <td>0</td>\n",
       "      <td>0</td>\n",
       "      <td>0</td>\n",
       "      <td>...</td>\n",
       "      <td>0</td>\n",
       "      <td>0</td>\n",
       "      <td>0</td>\n",
       "      <td>0</td>\n",
       "      <td>0</td>\n",
       "      <td>0</td>\n",
       "      <td>0</td>\n",
       "      <td>0</td>\n",
       "      <td>0</td>\n",
       "      <td>0</td>\n",
       "    </tr>\n",
       "    <tr>\n",
       "      <th>2</th>\n",
       "      <td>6</td>\n",
       "      <td>0</td>\n",
       "      <td>0</td>\n",
       "      <td>0</td>\n",
       "      <td>0</td>\n",
       "      <td>0</td>\n",
       "      <td>0</td>\n",
       "      <td>0</td>\n",
       "      <td>0</td>\n",
       "      <td>0</td>\n",
       "      <td>...</td>\n",
       "      <td>0</td>\n",
       "      <td>0</td>\n",
       "      <td>0</td>\n",
       "      <td>0</td>\n",
       "      <td>0</td>\n",
       "      <td>0</td>\n",
       "      <td>0</td>\n",
       "      <td>0</td>\n",
       "      <td>0</td>\n",
       "      <td>0</td>\n",
       "    </tr>\n",
       "    <tr>\n",
       "      <th>3</th>\n",
       "      <td>5</td>\n",
       "      <td>0</td>\n",
       "      <td>0</td>\n",
       "      <td>0</td>\n",
       "      <td>0</td>\n",
       "      <td>0</td>\n",
       "      <td>0</td>\n",
       "      <td>0</td>\n",
       "      <td>0</td>\n",
       "      <td>0</td>\n",
       "      <td>...</td>\n",
       "      <td>0</td>\n",
       "      <td>0</td>\n",
       "      <td>0</td>\n",
       "      <td>0</td>\n",
       "      <td>0</td>\n",
       "      <td>0</td>\n",
       "      <td>0</td>\n",
       "      <td>0</td>\n",
       "      <td>0</td>\n",
       "      <td>0</td>\n",
       "    </tr>\n",
       "    <tr>\n",
       "      <th>4</th>\n",
       "      <td>0</td>\n",
       "      <td>0</td>\n",
       "      <td>0</td>\n",
       "      <td>0</td>\n",
       "      <td>0</td>\n",
       "      <td>0</td>\n",
       "      <td>0</td>\n",
       "      <td>0</td>\n",
       "      <td>0</td>\n",
       "      <td>0</td>\n",
       "      <td>...</td>\n",
       "      <td>0</td>\n",
       "      <td>0</td>\n",
       "      <td>0</td>\n",
       "      <td>0</td>\n",
       "      <td>0</td>\n",
       "      <td>0</td>\n",
       "      <td>0</td>\n",
       "      <td>0</td>\n",
       "      <td>0</td>\n",
       "      <td>0</td>\n",
       "    </tr>\n",
       "  </tbody>\n",
       "</table>\n",
       "<p>5 rows × 785 columns</p>\n",
       "</div>"
      ],
      "text/plain": [
       "   label  pixel0  pixel1  pixel2  pixel3  pixel4  pixel5  pixel6  pixel7  \\\n",
       "0      7       0       0       0       0       0       0       0       0   \n",
       "1      1       0       0       0       0       0       0       0       0   \n",
       "2      6       0       0       0       0       0       0       0       0   \n",
       "3      5       0       0       0       0       0       0       0       0   \n",
       "4      0       0       0       0       0       0       0       0       0   \n",
       "\n",
       "   pixel8  ...  pixel774  pixel775  pixel776  pixel777  pixel778  pixel779  \\\n",
       "0       0  ...         0         0         0         0         0         0   \n",
       "1       0  ...         0         0         0         0         0         0   \n",
       "2       0  ...         0         0         0         0         0         0   \n",
       "3       0  ...         0         0         0         0         0         0   \n",
       "4       0  ...         0         0         0         0         0         0   \n",
       "\n",
       "   pixel780  pixel781  pixel782  pixel783  \n",
       "0         0         0         0         0  \n",
       "1         0         0         0         0  \n",
       "2         0         0         0         0  \n",
       "3         0         0         0         0  \n",
       "4         0         0         0         0  \n",
       "\n",
       "[5 rows x 785 columns]"
      ]
     },
     "execution_count": 3,
     "metadata": {},
     "output_type": "execute_result"
    }
   ],
   "source": [
    "train_data.head()"
   ]
  },
  {
   "cell_type": "code",
   "execution_count": 4,
   "metadata": {},
   "outputs": [
    {
     "data": {
      "text/html": [
       "<div>\n",
       "<style scoped>\n",
       "    .dataframe tbody tr th:only-of-type {\n",
       "        vertical-align: middle;\n",
       "    }\n",
       "\n",
       "    .dataframe tbody tr th {\n",
       "        vertical-align: top;\n",
       "    }\n",
       "\n",
       "    .dataframe thead th {\n",
       "        text-align: right;\n",
       "    }\n",
       "</style>\n",
       "<table border=\"1\" class=\"dataframe\">\n",
       "  <thead>\n",
       "    <tr style=\"text-align: right;\">\n",
       "      <th></th>\n",
       "      <th>label</th>\n",
       "      <th>pixel0</th>\n",
       "      <th>pixel1</th>\n",
       "      <th>pixel2</th>\n",
       "      <th>pixel3</th>\n",
       "      <th>pixel4</th>\n",
       "      <th>pixel5</th>\n",
       "      <th>pixel6</th>\n",
       "      <th>pixel7</th>\n",
       "      <th>pixel8</th>\n",
       "      <th>...</th>\n",
       "      <th>pixel774</th>\n",
       "      <th>pixel775</th>\n",
       "      <th>pixel776</th>\n",
       "      <th>pixel777</th>\n",
       "      <th>pixel778</th>\n",
       "      <th>pixel779</th>\n",
       "      <th>pixel780</th>\n",
       "      <th>pixel781</th>\n",
       "      <th>pixel782</th>\n",
       "      <th>pixel783</th>\n",
       "    </tr>\n",
       "  </thead>\n",
       "  <tbody>\n",
       "    <tr>\n",
       "      <th>0</th>\n",
       "      <td>?</td>\n",
       "      <td>0.0</td>\n",
       "      <td>0.0</td>\n",
       "      <td>0.0</td>\n",
       "      <td>0.0</td>\n",
       "      <td>0.0</td>\n",
       "      <td>0.0</td>\n",
       "      <td>0.0</td>\n",
       "      <td>0.0</td>\n",
       "      <td>0.0</td>\n",
       "      <td>...</td>\n",
       "      <td>0.0</td>\n",
       "      <td>0.0</td>\n",
       "      <td>0.0</td>\n",
       "      <td>0.0</td>\n",
       "      <td>0.0</td>\n",
       "      <td>0.0</td>\n",
       "      <td>0.0</td>\n",
       "      <td>0.0</td>\n",
       "      <td>0.0</td>\n",
       "      <td>0.0</td>\n",
       "    </tr>\n",
       "    <tr>\n",
       "      <th>1</th>\n",
       "      <td>?</td>\n",
       "      <td>0.0</td>\n",
       "      <td>0.0</td>\n",
       "      <td>0.0</td>\n",
       "      <td>0.0</td>\n",
       "      <td>0.0</td>\n",
       "      <td>0.0</td>\n",
       "      <td>0.0</td>\n",
       "      <td>0.0</td>\n",
       "      <td>0.0</td>\n",
       "      <td>...</td>\n",
       "      <td>0.0</td>\n",
       "      <td>0.0</td>\n",
       "      <td>0.0</td>\n",
       "      <td>0.0</td>\n",
       "      <td>0.0</td>\n",
       "      <td>0.0</td>\n",
       "      <td>0.0</td>\n",
       "      <td>0.0</td>\n",
       "      <td>0.0</td>\n",
       "      <td>0.0</td>\n",
       "    </tr>\n",
       "    <tr>\n",
       "      <th>2</th>\n",
       "      <td>?</td>\n",
       "      <td>0.0</td>\n",
       "      <td>0.0</td>\n",
       "      <td>0.0</td>\n",
       "      <td>0.0</td>\n",
       "      <td>0.0</td>\n",
       "      <td>0.0</td>\n",
       "      <td>0.0</td>\n",
       "      <td>0.0</td>\n",
       "      <td>0.0</td>\n",
       "      <td>...</td>\n",
       "      <td>0.0</td>\n",
       "      <td>0.0</td>\n",
       "      <td>0.0</td>\n",
       "      <td>0.0</td>\n",
       "      <td>0.0</td>\n",
       "      <td>0.0</td>\n",
       "      <td>0.0</td>\n",
       "      <td>0.0</td>\n",
       "      <td>0.0</td>\n",
       "      <td>0.0</td>\n",
       "    </tr>\n",
       "    <tr>\n",
       "      <th>3</th>\n",
       "      <td>?</td>\n",
       "      <td>0.0</td>\n",
       "      <td>0.0</td>\n",
       "      <td>0.0</td>\n",
       "      <td>0.0</td>\n",
       "      <td>0.0</td>\n",
       "      <td>0.0</td>\n",
       "      <td>0.0</td>\n",
       "      <td>0.0</td>\n",
       "      <td>0.0</td>\n",
       "      <td>...</td>\n",
       "      <td>0.0</td>\n",
       "      <td>0.0</td>\n",
       "      <td>0.0</td>\n",
       "      <td>0.0</td>\n",
       "      <td>0.0</td>\n",
       "      <td>0.0</td>\n",
       "      <td>0.0</td>\n",
       "      <td>0.0</td>\n",
       "      <td>0.0</td>\n",
       "      <td>0.0</td>\n",
       "    </tr>\n",
       "    <tr>\n",
       "      <th>4</th>\n",
       "      <td>?</td>\n",
       "      <td>0.0</td>\n",
       "      <td>0.0</td>\n",
       "      <td>0.0</td>\n",
       "      <td>0.0</td>\n",
       "      <td>0.0</td>\n",
       "      <td>0.0</td>\n",
       "      <td>0.0</td>\n",
       "      <td>0.0</td>\n",
       "      <td>0.0</td>\n",
       "      <td>...</td>\n",
       "      <td>0.0</td>\n",
       "      <td>0.0</td>\n",
       "      <td>0.0</td>\n",
       "      <td>0.0</td>\n",
       "      <td>0.0</td>\n",
       "      <td>0.0</td>\n",
       "      <td>0.0</td>\n",
       "      <td>0.0</td>\n",
       "      <td>0.0</td>\n",
       "      <td>0.0</td>\n",
       "    </tr>\n",
       "  </tbody>\n",
       "</table>\n",
       "<p>5 rows × 785 columns</p>\n",
       "</div>"
      ],
      "text/plain": [
       "  label  pixel0  pixel1  pixel2  pixel3  pixel4  pixel5  pixel6  pixel7  \\\n",
       "0     ?     0.0     0.0     0.0     0.0     0.0     0.0     0.0     0.0   \n",
       "1     ?     0.0     0.0     0.0     0.0     0.0     0.0     0.0     0.0   \n",
       "2     ?     0.0     0.0     0.0     0.0     0.0     0.0     0.0     0.0   \n",
       "3     ?     0.0     0.0     0.0     0.0     0.0     0.0     0.0     0.0   \n",
       "4     ?     0.0     0.0     0.0     0.0     0.0     0.0     0.0     0.0   \n",
       "\n",
       "   pixel8  ...  pixel774  pixel775  pixel776  pixel777  pixel778  pixel779  \\\n",
       "0     0.0  ...       0.0       0.0       0.0       0.0       0.0       0.0   \n",
       "1     0.0  ...       0.0       0.0       0.0       0.0       0.0       0.0   \n",
       "2     0.0  ...       0.0       0.0       0.0       0.0       0.0       0.0   \n",
       "3     0.0  ...       0.0       0.0       0.0       0.0       0.0       0.0   \n",
       "4     0.0  ...       0.0       0.0       0.0       0.0       0.0       0.0   \n",
       "\n",
       "   pixel780  pixel781  pixel782  pixel783  \n",
       "0       0.0       0.0       0.0       0.0  \n",
       "1       0.0       0.0       0.0       0.0  \n",
       "2       0.0       0.0       0.0       0.0  \n",
       "3       0.0       0.0       0.0       0.0  \n",
       "4       0.0       0.0       0.0       0.0  \n",
       "\n",
       "[5 rows x 785 columns]"
      ]
     },
     "execution_count": 4,
     "metadata": {},
     "output_type": "execute_result"
    }
   ],
   "source": [
    "test_data.head()"
   ]
  },
  {
   "cell_type": "markdown",
   "metadata": {},
   "source": [
    "### Check for null values"
   ]
  },
  {
   "cell_type": "code",
   "execution_count": 5,
   "metadata": {},
   "outputs": [
    {
     "name": "stdout",
     "output_type": "stream",
     "text": [
      "Columns with null values: 0\n",
      "Columns with null values: 784\n"
     ]
    }
   ],
   "source": [
    "print('Columns with null values:' ,sum(list(train_data.isnull().any())))\n",
    "print('Columns with null values:' ,sum(list(test_data.isnull().any())))"
   ]
  },
  {
   "cell_type": "markdown",
   "metadata": {},
   "source": [
    "### Removing null values from the test data"
   ]
  },
  {
   "cell_type": "code",
   "execution_count": 6,
   "metadata": {},
   "outputs": [],
   "source": [
    "test_data = test_data.fillna(0)"
   ]
  },
  {
   "cell_type": "markdown",
   "metadata": {},
   "source": [
    "### Splitting data into Train and Test"
   ]
  },
  {
   "cell_type": "code",
   "execution_count": 7,
   "metadata": {},
   "outputs": [],
   "source": [
    "X_train = train_data.drop('label', axis=1)\n",
    "y_train = train_data.label\n",
    "X_test = test_data.drop('label', axis=1)\n",
    "y_test = test_data.label\n",
    "label = sorted(y_train.unique())"
   ]
  },
  {
   "cell_type": "code",
   "execution_count": 8,
   "metadata": {},
   "outputs": [
    {
     "name": "stdout",
     "output_type": "stream",
     "text": [
      "(1400, 784) (1400,)\n",
      "(1000, 784) (1000,)\n"
     ]
    }
   ],
   "source": [
    "print(X_train.shape, y_train.shape)\n",
    "print(X_test.shape, y_test.shape)"
   ]
  },
  {
   "cell_type": "markdown",
   "metadata": {},
   "source": [
    "### Visualizing the data to be classified"
   ]
  },
  {
   "cell_type": "code",
   "execution_count": 9,
   "metadata": {},
   "outputs": [
    {
     "data": {
      "image/png": "[encoded data removed]",
      "text/plain": [
       "<Figure size 648x648 with 10 Axes>"
      ]
     },
     "metadata": {
      "needs_background": "light"
     },
     "output_type": "display_data"
    }
   ],
   "source": [
    "plt.figure(figsize=(9,9))\n",
    "for i in label:\n",
    "    plt.subplot(1,10, i+1)\n",
    "    img = np.array( X_train[y_train==i][1:2] ).reshape(28,28)\n",
    "    plt.imshow(img)"
   ]
  },
  {
   "cell_type": "markdown",
   "metadata": {},
   "source": [
    "## Naive Bayes Gaussian Model"
   ]
  },
  {
   "cell_type": "code",
   "execution_count": 10,
   "metadata": {},
   "outputs": [
    {
     "name": "stdout",
     "output_type": "stream",
     "text": [
      "Accuracy: 59.58181708645428%\n"
     ]
    }
   ],
   "source": [
    "gnb = GaussianNB()\n",
    "scores = cross_val_score(gnb, X_train, y_train, cv=5)\n",
    "print(f\"Accuracy: {100*scores.mean()}%\")"
   ]
  },
  {
   "cell_type": "code",
   "execution_count": 11,
   "metadata": {},
   "outputs": [
    {
     "data": {
      "text/plain": [
       "array([2, 0, 9, 9, 6, 7, 0, 3, 0, 3, 8, 7, 4, 0, 9, 0, 3, 1, 9, 0, 9, 1,\n",
       "       8, 8, 9, 9, 2, 7, 9, 9, 7, 8, 4, 8, 6, 2, 9, 8, 8, 6, 9, 7, 4, 9,\n",
       "       8, 3, 1, 8, 1, 7, 6, 8, 1, 3, 8, 6, 1, 8, 6, 0, 9, 1, 7, 0, 0, 0,\n",
       "       1, 9, 0, 1, 6, 8, 8, 8, 8, 8, 4, 9, 6, 3, 8, 9, 1, 0, 9, 6, 4, 3,\n",
       "       6, 9, 2, 0, 6, 6, 5, 9, 3, 5, 7, 9, 0, 1, 8, 0, 9, 8, 0, 8, 0, 4,\n",
       "       6, 0, 8, 8, 1, 3, 1, 1, 8, 8, 3, 9, 3, 1, 6, 3, 8, 9, 8, 9, 3, 8,\n",
       "       6, 4, 0, 0, 3, 1, 0, 6, 0, 3, 4, 5, 8, 8, 9, 7, 3, 1, 5, 6, 8, 6,\n",
       "       8, 8, 7, 8, 7, 8, 3, 0, 4, 3, 1, 1, 9, 6, 3, 0, 6, 9, 9, 6, 1, 3,\n",
       "       7, 5, 1, 8, 4, 9, 8, 6, 4, 9, 6, 1, 6, 0, 2, 8, 4, 5, 6, 0, 9, 9,\n",
       "       8, 9, 1, 9, 0, 9, 9, 0, 8, 4, 6, 6, 0, 9, 3, 6, 9, 8, 1, 6, 3, 9,\n",
       "       2, 3, 1, 2, 8, 8, 9, 6, 1, 0, 0, 8, 9, 1, 7, 8, 2, 8, 9, 6, 8, 6,\n",
       "       2, 8, 8, 8, 9, 8, 8, 9, 9, 9, 1, 7, 8, 4, 1, 1, 4, 0, 6, 2, 8, 5,\n",
       "       7, 0, 6, 8, 2, 1, 6, 0, 6, 3, 8, 8, 1, 9, 8, 4, 0, 7, 2, 4, 8, 9,\n",
       "       9, 9, 9, 9, 8, 9, 9, 7, 9, 6, 8, 8, 0, 3, 2, 9, 8, 8, 6, 3, 6, 1,\n",
       "       9, 8, 8, 8, 1, 9, 0, 3, 5, 8, 1, 1, 4, 1, 1, 9, 8, 4, 9, 1, 8, 7,\n",
       "       6, 3, 1, 3, 0, 9, 0, 8, 6, 9, 6, 5, 1, 8, 6, 0, 8, 8, 3, 8, 6, 4,\n",
       "       7, 8, 9, 8, 7, 9, 2, 9, 8, 6, 2, 8, 9, 5, 3, 1, 1, 6, 9, 8, 9, 9,\n",
       "       9, 6, 9, 8, 3, 9, 6, 8, 8, 9, 6, 6, 8, 1, 3, 4, 1, 9, 9, 9, 6, 1,\n",
       "       1, 1, 9, 3, 9, 9, 6, 1, 1, 1, 4, 0, 9, 8, 8, 8, 9, 1, 6, 7, 1, 1,\n",
       "       3, 5, 9, 6, 6, 8, 3, 1, 9, 9, 4, 7, 4, 8, 0, 2, 0, 1, 9, 7, 5, 0,\n",
       "       1, 4, 7, 4, 9, 4, 1, 5, 8, 8, 9, 9, 6, 9, 8, 9, 6, 8, 9, 8, 6, 7,\n",
       "       8, 0, 5, 1, 9, 9, 4, 1, 1, 4, 9, 8, 8, 0, 1, 8, 1, 0, 4, 9, 1, 2,\n",
       "       9, 9, 9, 9, 8, 9, 9, 4, 2, 4, 6, 9, 8, 3, 3, 0, 6, 6, 4, 4, 1, 8,\n",
       "       9, 3, 0, 6, 7, 1, 9, 3, 9, 8, 8, 9, 4, 2, 6, 9, 0, 9, 7, 1, 0, 1,\n",
       "       1, 7, 0, 8, 3, 8, 9, 5, 6, 8, 9, 1, 0, 2, 9, 2, 0, 0, 0, 9, 2, 1,\n",
       "       1, 8, 0, 8, 0, 0, 7, 8, 6, 2, 8, 8, 8, 1, 6, 8, 5, 1, 1, 9, 6, 8,\n",
       "       8, 6, 0, 4, 1, 2, 6, 2, 5, 1, 8, 6, 9, 1, 7, 6, 8, 8, 1, 9, 8, 5,\n",
       "       6, 6, 0, 6, 0, 0, 1, 1, 9, 1, 1, 2, 8, 8, 6, 1, 9, 4, 8, 6, 8, 4,\n",
       "       7, 0, 0, 9, 8, 8, 9, 4, 0, 9, 1, 3, 2, 8, 6, 1, 8, 6, 1, 9, 9, 7,\n",
       "       8, 0, 0, 9, 9, 8, 9, 7, 4, 9, 1, 8, 9, 9, 0, 0, 8, 3, 5, 8, 3, 7,\n",
       "       6, 3, 4, 0, 4, 8, 1, 8, 3, 6, 3, 9, 5, 3, 8, 4, 7, 2, 6, 0, 6, 9,\n",
       "       8, 1, 1, 3, 6, 6, 9, 9, 8, 2, 0, 1, 1, 9, 8, 9, 8, 8, 9, 0, 4, 4,\n",
       "       6, 0, 8, 9, 6, 8, 6, 2, 1, 1, 3, 6, 2, 8, 4, 3, 9, 3, 1, 0, 1, 6,\n",
       "       6, 9, 4, 5, 9, 1, 3, 6, 4, 7, 1, 8, 1, 8, 9, 8, 3, 9, 3, 9, 8, 9,\n",
       "       9, 6, 4, 9, 4, 4, 7, 4, 9, 1, 1, 9, 8, 0, 4, 0, 4, 0, 0, 8, 1, 8,\n",
       "       6, 8, 0, 8, 8, 3, 4, 6, 3, 1, 1, 6, 7, 5, 3, 5, 5, 1, 8, 5, 8, 8,\n",
       "       8, 0, 4, 3, 1, 6, 9, 9, 1, 1, 3, 3, 1, 9, 9, 6, 9, 1, 8, 9, 7, 1,\n",
       "       6, 4, 0, 9, 9, 5, 8, 0, 5, 0, 1, 9, 0, 4, 4, 2, 9, 8, 8, 9, 3, 9,\n",
       "       6, 1, 8, 6, 8, 9, 0, 1, 8, 6, 7, 2, 8, 5, 9, 9, 9, 4, 2, 9, 1, 3,\n",
       "       8, 8, 0, 9, 1, 8, 2, 3, 6, 9, 8, 3, 4, 8, 4, 3, 8, 8, 1, 1, 0, 1,\n",
       "       4, 4, 1, 1, 8, 9, 1, 5, 4, 9, 1, 9, 6, 0, 4, 6, 9, 9, 8, 1, 8, 4,\n",
       "       8, 9, 9, 7, 9, 3, 2, 9, 2, 0, 9, 5, 1, 6, 4, 6, 1, 0, 4, 8, 6, 9,\n",
       "       4, 7, 4, 0, 6, 8, 3, 2, 1, 6, 8, 0, 7, 7, 9, 5, 6, 5, 6, 1, 0, 9,\n",
       "       3, 2, 9, 8, 6, 9, 8, 4, 3, 2, 8, 3, 6, 2, 9, 9, 9, 0, 0, 8, 1, 8,\n",
       "       8, 6, 3, 6, 7, 6, 7, 0, 8, 0, 9, 4, 8, 1, 9, 9, 9, 7, 0, 8, 3, 6,\n",
       "       1, 9, 0, 6, 8, 3, 2, 2, 8, 1])"
      ]
     },
     "execution_count": 11,
     "metadata": {},
     "output_type": "execute_result"
    }
   ],
   "source": [
    "gnb.fit(X_train, y_train)\n",
    "gnb.predict(X_test)"
   ]
  },
  {
   "cell_type": "markdown",
   "metadata": {},
   "source": [
    "## Support Vector Machine Model"
   ]
  },
  {
   "cell_type": "markdown",
   "metadata": {},
   "source": [
    "### Preprocessing the data for SVM be applying the Standard Scaler function"
   ]
  },
  {
   "cell_type": "code",
   "execution_count": 12,
   "metadata": {},
   "outputs": [],
   "source": [
    "scaler = StandardScaler()  \n",
    "scaler.fit(X_train)\n",
    "X_train_std = scaler.transform(X_train)  \n",
    "X_test_std = scaler.transform(X_test)"
   ]
  },
  {
   "cell_type": "code",
   "execution_count": 13,
   "metadata": {},
   "outputs": [
    {
     "name": "stdout",
     "output_type": "stream",
     "text": [
      "Accuracy: 88.21025361823644%\n"
     ]
    }
   ],
   "source": [
    "clf = svm.SVC()\n",
    "scores = cross_val_score(clf, X_train_std, y_train, cv=5)\n",
    "print(f\"Accuracy: {100*scores.mean()}%\")"
   ]
  },
  {
   "cell_type": "markdown",
   "metadata": {},
   "source": [
    "### Parameter Tuning for SVM Model"
   ]
  },
  {
   "cell_type": "code",
   "execution_count": 14,
   "metadata": {},
   "outputs": [
    {
     "data": {
      "text/plain": [
       "GridSearchCV(cv=3, error_score='raise-deprecating',\n",
       "             estimator=SVC(C=1.0, cache_size=200, class_weight=None, coef0=0.0,\n",
       "                           decision_function_shape='ovr', degree=3,\n",
       "                           gamma='auto_deprecated', kernel='rbf', max_iter=-1,\n",
       "                           probability=False, random_state=None, shrinking=True,\n",
       "                           tol=0.001, verbose=False),\n",
       "             iid='warn', n_jobs=None,\n",
       "             param_grid={'C': [0.25, 0.5, 0.75, 1],\n",
       "                         'gamma': [1, 0.1, 0.01, 0.001],\n",
       "                         'kernel': ['rbf', 'linear']},\n",
       "             pre_dispatch='2*n_jobs', refit=True, return_train_score=False,\n",
       "             scoring='accuracy', verbose=0)"
      ]
     },
     "execution_count": 14,
     "metadata": {},
     "output_type": "execute_result"
    }
   ],
   "source": [
    "param_grid = {'kernel' : ['rbf', 'linear'],\n",
    "             'gamma' : [1, 0.1, 0.01, 0.001],\n",
    "              'C' : [0.25,0.5,0.75,1]}\n",
    "grid = GridSearchCV(clf, param_grid, cv=3, scoring='accuracy')\n",
    "grid.fit(X_train_std, y_train)"
   ]
  },
  {
   "cell_type": "code",
   "execution_count": 15,
   "metadata": {},
   "outputs": [],
   "source": [
    "C=grid.best_params_['C']\n",
    "kernel = grid.best_params_['kernel']\n",
    "gamma=grid.best_params_['gamma']\n",
    "clf=svm.SVC(kernel=kernel, C=C,gamma=gamma, random_state=42)"
   ]
  },
  {
   "cell_type": "code",
   "execution_count": 16,
   "metadata": {},
   "outputs": [
    {
     "name": "stdout",
     "output_type": "stream",
     "text": [
      "Accuracy: 87.57036538013206%\n"
     ]
    }
   ],
   "source": [
    "scores = cross_val_score(clf, X_train_std, y_train, cv=5)\n",
    "print(f\"Accuracy: {100*scores.mean()}%\")"
   ]
  },
  {
   "cell_type": "code",
   "execution_count": 17,
   "metadata": {},
   "outputs": [
    {
     "data": {
      "text/plain": [
       "array([2, 0, 9, 7, 2, 7, 0, 3, 0, 3, 5, 7, 4, 0, 4, 3, 3, 1, 9, 0, 9, 1,\n",
       "       1, 5, 7, 4, 2, 7, 7, 7, 7, 5, 4, 2, 6, 2, 9, 5, 1, 6, 7, 7, 4, 9,\n",
       "       8, 3, 8, 8, 6, 1, 6, 8, 8, 3, 8, 2, 1, 2, 7, 0, 4, 1, 7, 0, 0, 0,\n",
       "       1, 9, 0, 1, 6, 5, 8, 8, 2, 8, 3, 9, 2, 3, 5, 9, 1, 0, 9, 2, 4, 3,\n",
       "       6, 7, 2, 0, 6, 6, 1, 4, 3, 9, 7, 4, 0, 3, 8, 0, 7, 3, 0, 5, 0, 4,\n",
       "       6, 0, 4, 1, 1, 7, 1, 1, 5, 3, 3, 7, 3, 8, 6, 3, 8, 7, 7, 4, 3, 5,\n",
       "       6, 0, 0, 0, 3, 1, 3, 6, 4, 3, 4, 5, 5, 8, 7, 7, 2, 8, 7, 3, 5, 6,\n",
       "       5, 1, 7, 5, 7, 8, 3, 0, 4, 5, 1, 8, 7, 6, 3, 0, 2, 7, 9, 6, 1, 3,\n",
       "       7, 4, 1, 2, 4, 8, 5, 2, 4, 9, 2, 1, 6, 0, 2, 1, 4, 2, 6, 0, 9, 7,\n",
       "       6, 9, 1, 9, 0, 9, 9, 0, 8, 4, 6, 2, 0, 9, 3, 6, 7, 2, 1, 6, 3, 4,\n",
       "       2, 3, 1, 0, 2, 0, 4, 6, 1, 0, 0, 4, 9, 1, 7, 3, 2, 8, 8, 6, 8, 6,\n",
       "       2, 8, 5, 5, 4, 8, 3, 8, 9, 4, 1, 3, 8, 4, 5, 1, 4, 3, 6, 3, 3, 5,\n",
       "       7, 0, 6, 8, 6, 1, 6, 0, 6, 3, 9, 4, 1, 5, 8, 4, 0, 9, 2, 0, 5, 3,\n",
       "       7, 1, 9, 9, 5, 7, 7, 9, 9, 6, 3, 0, 3, 3, 6, 9, 8, 2, 6, 3, 7, 1,\n",
       "       4, 5, 8, 5, 9, 0, 0, 3, 7, 4, 1, 8, 4, 1, 1, 9, 8, 4, 5, 1, 5, 3,\n",
       "       6, 3, 1, 3, 0, 9, 0, 0, 6, 0, 6, 2, 1, 8, 6, 0, 6, 5, 3, 8, 6, 7,\n",
       "       7, 2, 9, 8, 7, 9, 2, 9, 8, 6, 3, 8, 9, 2, 3, 8, 1, 6, 4, 8, 9, 9,\n",
       "       7, 6, 9, 5, 3, 7, 6, 5, 5, 4, 2, 6, 2, 1, 3, 4, 1, 7, 9, 9, 7, 1,\n",
       "       1, 1, 7, 3, 9, 7, 6, 1, 1, 1, 9, 3, 5, 5, 5, 0, 4, 1, 2, 7, 1, 1,\n",
       "       3, 5, 9, 6, 6, 5, 3, 1, 4, 7, 4, 7, 4, 8, 5, 2, 2, 1, 3, 9, 5, 0,\n",
       "       8, 4, 7, 4, 9, 4, 1, 5, 3, 9, 9, 7, 6, 9, 5, 9, 2, 3, 7, 8, 6, 7,\n",
       "       5, 0, 5, 1, 7, 4, 4, 1, 1, 4, 9, 5, 6, 0, 1, 3, 1, 0, 4, 8, 1, 2,\n",
       "       7, 9, 4, 8, 3, 7, 0, 4, 2, 4, 6, 7, 5, 3, 7, 0, 6, 5, 4, 4, 1, 8,\n",
       "       3, 3, 0, 6, 7, 5, 8, 7, 5, 3, 5, 7, 4, 2, 2, 9, 0, 7, 7, 1, 0, 1,\n",
       "       1, 7, 0, 5, 3, 8, 3, 5, 6, 5, 4, 3, 0, 2, 8, 2, 0, 3, 0, 9, 2, 1,\n",
       "       1, 3, 0, 5, 0, 0, 7, 5, 6, 2, 0, 3, 1, 1, 6, 5, 4, 1, 1, 4, 4, 5,\n",
       "       3, 6, 0, 4, 8, 2, 7, 2, 5, 1, 2, 6, 9, 1, 7, 3, 8, 0, 8, 8, 1, 5,\n",
       "       2, 6, 6, 6, 0, 3, 1, 1, 7, 1, 6, 2, 8, 5, 6, 4, 7, 4, 3, 3, 2, 4,\n",
       "       7, 0, 0, 9, 8, 5, 9, 4, 0, 8, 1, 3, 6, 7, 6, 1, 8, 6, 1, 4, 7, 7,\n",
       "       8, 3, 0, 4, 9, 6, 4, 7, 4, 4, 1, 8, 4, 9, 0, 0, 8, 2, 4, 3, 7, 7,\n",
       "       2, 3, 4, 0, 4, 8, 1, 3, 3, 6, 3, 9, 4, 7, 8, 7, 7, 7, 6, 0, 6, 9,\n",
       "       8, 1, 1, 3, 4, 6, 9, 9, 8, 6, 0, 1, 8, 4, 3, 9, 8, 8, 4, 0, 5, 0,\n",
       "       6, 0, 4, 4, 6, 5, 5, 8, 1, 5, 3, 6, 2, 3, 7, 3, 9, 3, 1, 0, 1, 0,\n",
       "       6, 4, 7, 5, 7, 1, 3, 2, 7, 7, 1, 6, 1, 5, 4, 4, 3, 4, 3, 9, 0, 7,\n",
       "       8, 6, 4, 9, 4, 4, 7, 4, 7, 1, 1, 2, 7, 0, 4, 0, 4, 0, 0, 5, 1, 8,\n",
       "       6, 5, 0, 1, 5, 3, 4, 6, 3, 1, 1, 6, 7, 5, 3, 5, 5, 9, 3, 8, 5, 0,\n",
       "       4, 0, 4, 3, 1, 6, 9, 7, 1, 1, 3, 3, 1, 4, 9, 6, 9, 1, 5, 4, 7, 3,\n",
       "       4, 4, 0, 9, 7, 7, 3, 0, 5, 0, 1, 9, 0, 4, 5, 2, 8, 5, 5, 9, 7, 9,\n",
       "       6, 1, 5, 3, 1, 9, 0, 8, 8, 6, 7, 2, 8, 5, 8, 9, 7, 7, 2, 8, 1, 7,\n",
       "       4, 5, 0, 4, 1, 4, 2, 3, 6, 9, 2, 3, 4, 5, 4, 3, 3, 8, 1, 1, 0, 1,\n",
       "       4, 9, 1, 1, 2, 7, 1, 5, 4, 9, 1, 7, 6, 0, 4, 2, 9, 9, 1, 1, 5, 3,\n",
       "       5, 7, 9, 7, 8, 3, 2, 7, 2, 0, 4, 7, 1, 6, 4, 6, 1, 0, 7, 3, 7, 9,\n",
       "       4, 7, 9, 6, 6, 3, 3, 2, 1, 4, 8, 3, 7, 7, 9, 5, 6, 2, 6, 1, 0, 9,\n",
       "       3, 2, 9, 2, 6, 7, 5, 2, 3, 2, 8, 3, 0, 2, 7, 9, 4, 0, 0, 5, 1, 8,\n",
       "       8, 2, 3, 6, 7, 6, 7, 0, 8, 0, 7, 4, 5, 8, 7, 9, 7, 7, 0, 5, 3, 2,\n",
       "       1, 9, 0, 6, 8, 3, 6, 2, 2, 1])"
      ]
     },
     "execution_count": 17,
     "metadata": {},
     "output_type": "execute_result"
    }
   ],
   "source": [
    "clf.fit(X_train_std, y_train)\n",
    "clf.predict(X_test_std)"
   ]
  },
  {
   "cell_type": "markdown",
   "metadata": {},
   "source": [
    "## Random Forest Model"
   ]
  },
  {
   "cell_type": "code",
   "execution_count": 18,
   "metadata": {},
   "outputs": [
    {
     "name": "stdout",
     "output_type": "stream",
     "text": [
      "Accuracy: 81.49925092689563%\n"
     ]
    }
   ],
   "source": [
    "model = RandomForestClassifier()\n",
    "scores = cross_val_score(model, X_train, y_train, cv=5)\n",
    "print(f\"Accuracy: {100*scores.mean()}%\")"
   ]
  },
  {
   "cell_type": "markdown",
   "metadata": {},
   "source": [
    "### Parameter Tuning for Random Forest Model"
   ]
  },
  {
   "cell_type": "code",
   "execution_count": 19,
   "metadata": {},
   "outputs": [
    {
     "data": {
      "text/plain": [
       "GridSearchCV(cv=3, error_score='raise-deprecating',\n",
       "             estimator=RandomForestClassifier(bootstrap=True, class_weight=None,\n",
       "                                              criterion='gini', max_depth=None,\n",
       "                                              max_features='auto',\n",
       "                                              max_leaf_nodes=None,\n",
       "                                              min_impurity_decrease=0.0,\n",
       "                                              min_impurity_split=None,\n",
       "                                              min_samples_leaf=1,\n",
       "                                              min_samples_split=2,\n",
       "                                              min_weight_fraction_leaf=0.0,\n",
       "                                              n_estimators='warn', n_jobs=None,\n",
       "                                              oob_score=False,\n",
       "                                              random_state=None, verbose=0,\n",
       "                                              warm_start=False),\n",
       "             iid='warn', n_jobs=None,\n",
       "             param_grid={'n_estimators': [25, 50, 75, 100, 300]},\n",
       "             pre_dispatch='2*n_jobs', refit=True, return_train_score=False,\n",
       "             scoring='accuracy', verbose=0)"
      ]
     },
     "execution_count": 19,
     "metadata": {},
     "output_type": "execute_result"
    }
   ],
   "source": [
    "param_grid = {'n_estimators' : [25,50,75,100,300]}\n",
    "grid = GridSearchCV(model, param_grid, cv=3, scoring='accuracy')\n",
    "grid.fit(X_train, y_train)"
   ]
  },
  {
   "cell_type": "code",
   "execution_count": 20,
   "metadata": {},
   "outputs": [
    {
     "name": "stdout",
     "output_type": "stream",
     "text": [
      "Accuracy: 91.05498425387424%\n"
     ]
    }
   ],
   "source": [
    "n_estimators=grid.best_params_['n_estimators']\n",
    "model = RandomForestClassifier(n_estimators=n_estimators, min_samples_split=2, min_samples_leaf=1)\n",
    "scores = cross_val_score(model, X_train, y_train, cv=5)\n",
    "print(f\"Accuracy: {100*scores.mean()}%\")\n"
   ]
  },
  {
   "cell_type": "code",
   "execution_count": 21,
   "metadata": {},
   "outputs": [
    {
     "data": {
      "text/plain": [
       "array([2, 0, 9, 4, 3, 7, 0, 3, 0, 3, 5, 7, 4, 0, 4, 3, 3, 1, 9, 0, 9, 1,\n",
       "       1, 5, 7, 4, 2, 7, 7, 7, 7, 5, 4, 2, 6, 2, 5, 5, 1, 6, 7, 7, 4, 9,\n",
       "       8, 7, 8, 8, 6, 7, 6, 8, 8, 3, 8, 2, 1, 2, 9, 5, 4, 1, 7, 0, 0, 0,\n",
       "       1, 9, 0, 1, 6, 5, 8, 8, 2, 8, 3, 9, 2, 3, 5, 9, 1, 0, 9, 2, 4, 3,\n",
       "       6, 7, 2, 0, 6, 6, 1, 4, 3, 8, 7, 4, 0, 3, 2, 0, 7, 9, 0, 5, 0, 3,\n",
       "       0, 0, 4, 7, 1, 2, 1, 1, 5, 3, 3, 7, 2, 8, 6, 3, 8, 7, 8, 4, 3, 5,\n",
       "       6, 0, 0, 0, 3, 1, 3, 0, 4, 3, 4, 5, 5, 8, 7, 7, 2, 8, 4, 3, 5, 6,\n",
       "       5, 1, 7, 5, 7, 8, 3, 0, 4, 5, 1, 8, 7, 6, 3, 0, 2, 7, 9, 6, 1, 3,\n",
       "       7, 4, 1, 2, 4, 8, 5, 2, 4, 9, 2, 1, 6, 0, 6, 1, 4, 9, 6, 0, 9, 7,\n",
       "       6, 9, 1, 9, 0, 9, 9, 0, 8, 4, 6, 2, 0, 9, 3, 6, 7, 2, 1, 6, 3, 4,\n",
       "       2, 3, 1, 5, 2, 0, 9, 6, 1, 0, 0, 4, 9, 1, 7, 3, 2, 3, 8, 6, 8, 6,\n",
       "       2, 8, 5, 5, 9, 8, 3, 6, 9, 7, 1, 3, 8, 4, 5, 1, 4, 3, 6, 3, 3, 5,\n",
       "       7, 0, 6, 8, 6, 1, 6, 0, 6, 3, 8, 9, 1, 5, 8, 4, 0, 9, 2, 0, 5, 3,\n",
       "       7, 1, 9, 9, 5, 7, 7, 9, 9, 6, 3, 0, 3, 3, 6, 9, 8, 2, 6, 2, 7, 1,\n",
       "       4, 5, 8, 5, 9, 0, 0, 3, 9, 4, 1, 8, 4, 1, 1, 9, 8, 4, 5, 1, 5, 7,\n",
       "       6, 3, 1, 3, 0, 8, 0, 0, 6, 0, 6, 2, 1, 8, 6, 0, 6, 5, 2, 2, 6, 7,\n",
       "       7, 2, 5, 8, 8, 9, 2, 1, 8, 6, 3, 8, 4, 2, 3, 8, 1, 6, 4, 8, 7, 9,\n",
       "       7, 6, 9, 5, 3, 7, 6, 5, 5, 4, 2, 6, 2, 1, 3, 7, 1, 7, 9, 9, 6, 1,\n",
       "       1, 1, 7, 3, 9, 7, 6, 1, 1, 1, 9, 3, 5, 8, 5, 0, 4, 1, 2, 3, 1, 1,\n",
       "       3, 5, 9, 6, 6, 5, 3, 1, 4, 7, 4, 7, 4, 8, 5, 2, 2, 1, 3, 9, 5, 0,\n",
       "       8, 4, 7, 4, 9, 4, 1, 5, 3, 9, 9, 7, 6, 9, 5, 9, 2, 3, 1, 6, 6, 7,\n",
       "       5, 0, 5, 1, 7, 4, 4, 1, 1, 4, 9, 5, 6, 0, 1, 3, 1, 0, 4, 8, 1, 2,\n",
       "       7, 9, 4, 8, 3, 7, 0, 4, 2, 4, 6, 7, 5, 3, 2, 0, 6, 5, 4, 4, 1, 8,\n",
       "       3, 3, 0, 6, 7, 6, 8, 7, 5, 3, 1, 7, 6, 2, 6, 9, 0, 7, 7, 1, 0, 1,\n",
       "       1, 7, 0, 5, 3, 8, 3, 5, 6, 5, 4, 3, 0, 2, 8, 2, 0, 3, 0, 9, 2, 1,\n",
       "       1, 3, 0, 5, 0, 0, 7, 5, 6, 2, 0, 3, 8, 1, 6, 5, 8, 1, 1, 4, 7, 5,\n",
       "       3, 6, 0, 4, 8, 2, 4, 2, 5, 1, 2, 6, 9, 1, 7, 3, 8, 8, 8, 8, 4, 5,\n",
       "       3, 6, 6, 6, 0, 3, 1, 1, 7, 1, 6, 2, 8, 5, 6, 4, 7, 4, 3, 3, 2, 4,\n",
       "       7, 0, 0, 9, 8, 5, 9, 4, 0, 8, 1, 5, 6, 7, 6, 1, 8, 6, 1, 4, 7, 7,\n",
       "       8, 3, 0, 9, 9, 6, 4, 7, 4, 4, 1, 8, 4, 9, 0, 0, 8, 2, 4, 3, 3, 7,\n",
       "       2, 3, 4, 0, 4, 8, 1, 3, 3, 6, 3, 9, 4, 3, 8, 7, 7, 6, 6, 0, 6, 9,\n",
       "       8, 1, 1, 3, 4, 6, 9, 9, 2, 6, 0, 1, 8, 4, 3, 9, 8, 8, 4, 0, 5, 0,\n",
       "       6, 0, 4, 4, 6, 5, 5, 8, 1, 5, 3, 6, 2, 3, 7, 3, 9, 3, 1, 0, 1, 0,\n",
       "       6, 4, 7, 5, 7, 1, 3, 2, 7, 7, 1, 5, 1, 5, 4, 4, 3, 4, 3, 9, 0, 7,\n",
       "       8, 6, 4, 9, 4, 4, 1, 4, 7, 1, 1, 8, 2, 0, 4, 0, 4, 0, 0, 8, 1, 8,\n",
       "       6, 5, 0, 1, 5, 3, 4, 6, 3, 1, 1, 6, 4, 8, 3, 5, 5, 9, 3, 8, 5, 0,\n",
       "       4, 0, 4, 3, 1, 6, 9, 7, 1, 1, 3, 3, 1, 4, 9, 6, 9, 1, 5, 4, 7, 3,\n",
       "       4, 4, 0, 9, 7, 8, 3, 0, 5, 0, 1, 9, 0, 4, 5, 2, 8, 5, 5, 9, 3, 9,\n",
       "       6, 1, 5, 5, 1, 9, 0, 8, 6, 6, 7, 2, 8, 5, 8, 9, 7, 7, 2, 8, 1, 3,\n",
       "       4, 5, 0, 4, 1, 4, 2, 3, 6, 9, 2, 3, 4, 5, 4, 2, 3, 3, 1, 1, 0, 1,\n",
       "       4, 9, 1, 1, 2, 7, 1, 5, 4, 9, 1, 7, 6, 0, 4, 2, 9, 4, 1, 1, 5, 3,\n",
       "       5, 7, 9, 7, 8, 3, 2, 7, 2, 0, 4, 7, 1, 6, 4, 6, 1, 0, 7, 3, 5, 9,\n",
       "       4, 7, 9, 6, 6, 3, 3, 2, 1, 4, 5, 3, 7, 7, 9, 5, 6, 2, 6, 1, 0, 9,\n",
       "       3, 2, 9, 2, 6, 7, 5, 2, 3, 2, 8, 3, 0, 2, 7, 9, 4, 0, 0, 5, 1, 8,\n",
       "       8, 5, 3, 2, 9, 6, 7, 0, 8, 0, 7, 4, 3, 8, 7, 9, 7, 7, 0, 5, 3, 2,\n",
       "       1, 9, 0, 6, 8, 3, 6, 2, 2, 7])"
      ]
     },
     "execution_count": 21,
     "metadata": {},
     "output_type": "execute_result"
    }
   ],
   "source": [
    "model.fit(X_train, y_train)\n",
    "model.predict(X_test)"
   ]
  },
  {
   "cell_type": "markdown",
   "metadata": {},
   "source": [
    "## Boxplots showing the spread of the accuracy scores across each cross validation fold for each algorithm."
   ]
  },
  {
   "cell_type": "code",
   "execution_count": 28,
   "metadata": {},
   "outputs": [
    {
     "name": "stdout",
     "output_type": "stream",
     "text": [
      "NB: 58.798563, 0.309288\n",
      "SVM: 87.570365, 6.136736\n",
      "RF: 90.988143, 8.085012\n"
     ]
    }
   ],
   "source": [
    "models=[]\n",
    "time_taken=[]\n",
    "models.append(('NB', gnb))\n",
    "models.append(('SVM', clf))\n",
    "models.append(('RF', model))\n",
    "results = []\n",
    "names = []\n",
    "scoring = 'accuracy'\n",
    "for name, model in models:\n",
    "    if models == 'NB' or models == 'RF':\n",
    "        start = time.time()\n",
    "        cv_results = cross_val_score(model, X_train, y_train, cv=5, scoring=scoring)\n",
    "        end = time.time()\n",
    "        time_taken = end - start\n",
    "    else:\n",
    "        start = time.time()\n",
    "        cv_results = cross_val_score(model, X_train_std, y_train, cv=5, scoring=scoring)\n",
    "        end = time.time()\n",
    "        time_taken = end - start    \n",
    "    results.append(cv_results)\n",
    "    names.append(name)\n",
    "    msg = \"%s: %f, %f\" % (name, (cv_results.mean()*100),time_taken)\n",
    "    print(msg)"
   ]
  },
  {
   "cell_type": "markdown",
   "metadata": {},
   "source": [
    "## Boxplot algorithm comparison"
   ]
  },
  {
   "cell_type": "code",
   "execution_count": 26,
   "metadata": {},
   "outputs": [
    {
     "data": {
      "image/png": "[encoded data removed]",
      "text/plain": [
       "<Figure size 864x720 with 1 Axes>"
      ]
     },
     "metadata": {
      "needs_background": "light"
     },
     "output_type": "display_data"
    }
   ],
   "source": [
    "fig = plt.figure(figsize=(12, 10))\n",
    "fig.suptitle('Algorithm Comparison')\n",
    "ax = fig.add_subplot(111)\n",
    "sns.boxplot(data=results, palette=\"Set2\")\n",
    "ax.set_xticklabels(names)\n",
    "plt.show()"
   ]
  },
  {
   "cell_type": "markdown",
   "metadata": {},
   "source": [
    "## Takeaway:\n",
    "### - As seen from the above comparison, it is clear that implementing Random Forest gives us the best accuracy (91.12%) among all 3 models. While it provides us with the best accuracy, it also consumes the most time (6.76 secs). The reason being that it has the most number of parameters to be tuned. \n",
    "### - SVM takes 5.96 secs and produces results with 87.57% of accuracy. It took lesser time than Random Forest becuase it has less parameters to be tuned.\n",
    "### -Naive Bayes takes the least amount of the time to run but it also provides us with a low accuracy rate. It works on the assumption of independence of variables. When the assumption is violated, it might not perform well. This might be reason that Naive Bayes performance in this problem is poor if compared to Random Forest Classifier and SVM.\n",
    "### -It is also seen that naive bayes model overfits the data as the variance in the cross validation accuracies is large for naive bayes."
   ]
  }
 ],
 "metadata": {
  "kernelspec": {
   "display_name": "Python 3",
   "language": "python",
   "name": "python3"
  },
  "language_info": {
   "codemirror_mode": {
    "name": "ipython",
    "version": 3
   },
   "file_extension": ".py",
   "mimetype": "text/x-python",
   "name": "python",
   "nbconvert_exporter": "python",
   "pygments_lexer": "ipython3",
   "version": "3.7.3"
  }
 },
 "nbformat": 4,
 "nbformat_minor": 2
}
